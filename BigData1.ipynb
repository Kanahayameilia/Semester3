{
  "nbformat": 4,
  "nbformat_minor": 0,
  "metadata": {
    "colab": {
      "provenance": []
    },
    "kernelspec": {
      "name": "python3",
      "display_name": "Python 3"
    },
    "language_info": {
      "name": "python"
    }
  },
  "cells": [
    {
      "cell_type": "code",
      "execution_count": 1,
      "metadata": {
        "colab": {
          "base_uri": "https://localhost:8080/"
        },
        "id": "64NZ-p0Xfpmp",
        "outputId": "460ad237-af58-4c14-b71c-3e766c2417fe"
      },
      "outputs": [
        {
          "output_type": "stream",
          "name": "stdout",
          "text": [
            "Requirement already satisfied: pyspark in /usr/local/lib/python3.12/dist-packages (3.5.1)\n",
            "Requirement already satisfied: py4j==0.10.9.7 in /usr/local/lib/python3.12/dist-packages (from pyspark) (0.10.9.7)\n"
          ]
        }
      ],
      "source": [
        "!pip install pyspark"
      ]
    },
    {
      "cell_type": "code",
      "source": [
        "from pyspark.sql import SparkSession\n",
        "\n",
        "# Memulai Spark session\n",
        "spark = SparkSession.builder.appName(\"BigDataPractice\").getOrCreate()\n",
        "\n",
        "# Membuat DataFrame sederhana\n",
        "data = [(\"Ali\", 34), (\"Budi\", 23), (\"Citra\", 29), (\"Dina\", 45)]\n",
        "columns = [\"Nama\", \"Usia\"]\n",
        "df = spark.createDataFrame(data, columns)\n",
        "\n",
        "# Menampilkan DataFrame\n",
        "df.show()"
      ],
      "metadata": {
        "colab": {
          "base_uri": "https://localhost:8080/"
        },
        "id": "fyqeYOdKpz5h",
        "outputId": "11bdf76f-9258-4e26-cb0d-de1e23c681a7"
      },
      "execution_count": 2,
      "outputs": [
        {
          "output_type": "stream",
          "name": "stdout",
          "text": [
            "+-----+----+\n",
            "| Nama|Usia|\n",
            "+-----+----+\n",
            "|  Ali|  34|\n",
            "| Budi|  23|\n",
            "|Citra|  29|\n",
            "| Dina|  45|\n",
            "+-----+----+\n",
            "\n"
          ]
        }
      ]
    },
    {
      "cell_type": "code",
      "source": [
        "from pyspark.sql import SparkSession\n",
        "\n",
        "# Memulai Spark session\n",
        "spark = SparkSession.builder.appName(\"BigDataPractice\").getOrCreate()\n",
        "\n",
        "# Membuat DataFrame sederhana dengan tambahan kolom\n",
        "data = [(\"Ali\", 34, \"Dokter\", \"Membaca\", \"Laki-laki\"),\n",
        "        (\"Budi\", 23, \"Guru\", \"Olahraga\", \"Laki-laki\"),\n",
        "        (\"Citra\", 29, \"Insinyur\", \"Memasak\", \"Perempuan\"),\n",
        "        (\"Dina\", 45, \"Perawat\", \"Traveling\", \"Perempuan\")]\n",
        "columns = [\"Nama\", \"Usia\", \"Pekerjaan\", \"Hobi\", \"Gender\"]\n",
        "df = spark.createDataFrame(data, columns)\n",
        "\n",
        "# Menampilkan DataFrame\n",
        "df.show()"
      ],
      "metadata": {
        "colab": {
          "base_uri": "https://localhost:8080/"
        },
        "id": "d_Jx1hfYslTl",
        "outputId": "e8b3fe9d-9a0a-4b05-9aa3-637144dfc9f2"
      },
      "execution_count": 3,
      "outputs": [
        {
          "output_type": "stream",
          "name": "stdout",
          "text": [
            "+-----+----+---------+---------+---------+\n",
            "| Nama|Usia|Pekerjaan|     Hobi|   Gender|\n",
            "+-----+----+---------+---------+---------+\n",
            "|  Ali|  34|   Dokter|  Membaca|Laki-laki|\n",
            "| Budi|  23|     Guru| Olahraga|Laki-laki|\n",
            "|Citra|  29| Insinyur|  Memasak|Perempuan|\n",
            "| Dina|  45|  Perawat|Traveling|Perempuan|\n",
            "+-----+----+---------+---------+---------+\n",
            "\n"
          ]
        }
      ]
    },
    {
      "cell_type": "code",
      "source": [
        "from pyspark.sql import SparkSession\n",
        "\n",
        "# Memulai Spark session\n",
        "spark = SparkSession.builder.appName(\"BigDataPractice\").getOrCreate()\n",
        "\n",
        "# Membuat DataFrame sederhana\n",
        "data = [(\"Ali\", 34), (\"Budi\", 23), (\"Citra\", 29), (\"Dina\", 45)]\n",
        "columns = [\"Nama\", \"Usia\"]\n",
        "df = spark.createDataFrame(data, columns)\n",
        "\n",
        "# Menampilkan DataFrame\n",
        "df.show()\n",
        "\n",
        "# Filtering data\n",
        "df_filtered = df.filter(df['Usia'] > 30)\n",
        "df_filtered.show()\n",
        "\n",
        "# Menghitung rata-rata usia\n",
        "from pyspark.sql.functions import avg\n",
        "df.groupBy().agg(avg(\"Usia\")).show()\n",
        "\n",
        "# Mengurutkan data berdasarkan usia\n",
        "df_sorted = df.orderBy(\"Usia\", ascending=False)\n",
        "df_sorted.show()\n"
      ],
      "metadata": {
        "colab": {
          "base_uri": "https://localhost:8080/"
        },
        "id": "kPS2y_govuT6",
        "outputId": "ff3cfe70-cb09-4eda-de8c-a31645d31bbe"
      },
      "execution_count": 4,
      "outputs": [
        {
          "output_type": "stream",
          "name": "stdout",
          "text": [
            "+-----+----+\n",
            "| Nama|Usia|\n",
            "+-----+----+\n",
            "|  Ali|  34|\n",
            "| Budi|  23|\n",
            "|Citra|  29|\n",
            "| Dina|  45|\n",
            "+-----+----+\n",
            "\n",
            "+----+----+\n",
            "|Nama|Usia|\n",
            "+----+----+\n",
            "| Ali|  34|\n",
            "|Dina|  45|\n",
            "+----+----+\n",
            "\n",
            "+---------+\n",
            "|avg(Usia)|\n",
            "+---------+\n",
            "|    32.75|\n",
            "+---------+\n",
            "\n",
            "+-----+----+\n",
            "| Nama|Usia|\n",
            "+-----+----+\n",
            "| Dina|  45|\n",
            "|  Ali|  34|\n",
            "|Citra|  29|\n",
            "| Budi|  23|\n",
            "+-----+----+\n",
            "\n"
          ]
        }
      ]
    },
    {
      "cell_type": "code",
      "source": [
        "import pandas as pd\n",
        "\n",
        "# Membuat DataFrame Pandas\n",
        "data_pandas = {\"Nama\": [\"Ali\", \"Budi\", \"Citra\", \"Dina\"], \"Usia\": [34, 23, 29, 45]}\n",
        "df_pandas = pd.DataFrame(data_pandas)\n",
        "\n",
        "# Menampilkan DataFrame Pandas\n",
        "df_pandas"
      ],
      "metadata": {
        "colab": {
          "base_uri": "https://localhost:8080/",
          "height": 175
        },
        "id": "lbjdIg3w3RoI",
        "outputId": "e0ee51de-5b5a-4b6d-d488-3463869a8bc3"
      },
      "execution_count": 5,
      "outputs": [
        {
          "output_type": "execute_result",
          "data": {
            "text/plain": [
              "    Nama  Usia\n",
              "0    Ali    34\n",
              "1   Budi    23\n",
              "2  Citra    29\n",
              "3   Dina    45"
            ],
            "text/html": [
              "\n",
              "  <div id=\"df-6392e441-ab4f-45f3-bad6-397a492187e6\" class=\"colab-df-container\">\n",
              "    <div>\n",
              "<style scoped>\n",
              "    .dataframe tbody tr th:only-of-type {\n",
              "        vertical-align: middle;\n",
              "    }\n",
              "\n",
              "    .dataframe tbody tr th {\n",
              "        vertical-align: top;\n",
              "    }\n",
              "\n",
              "    .dataframe thead th {\n",
              "        text-align: right;\n",
              "    }\n",
              "</style>\n",
              "<table border=\"1\" class=\"dataframe\">\n",
              "  <thead>\n",
              "    <tr style=\"text-align: right;\">\n",
              "      <th></th>\n",
              "      <th>Nama</th>\n",
              "      <th>Usia</th>\n",
              "    </tr>\n",
              "  </thead>\n",
              "  <tbody>\n",
              "    <tr>\n",
              "      <th>0</th>\n",
              "      <td>Ali</td>\n",
              "      <td>34</td>\n",
              "    </tr>\n",
              "    <tr>\n",
              "      <th>1</th>\n",
              "      <td>Budi</td>\n",
              "      <td>23</td>\n",
              "    </tr>\n",
              "    <tr>\n",
              "      <th>2</th>\n",
              "      <td>Citra</td>\n",
              "      <td>29</td>\n",
              "    </tr>\n",
              "    <tr>\n",
              "      <th>3</th>\n",
              "      <td>Dina</td>\n",
              "      <td>45</td>\n",
              "    </tr>\n",
              "  </tbody>\n",
              "</table>\n",
              "</div>\n",
              "    <div class=\"colab-df-buttons\">\n",
              "\n",
              "  <div class=\"colab-df-container\">\n",
              "    <button class=\"colab-df-convert\" onclick=\"convertToInteractive('df-6392e441-ab4f-45f3-bad6-397a492187e6')\"\n",
              "            title=\"Convert this dataframe to an interactive table.\"\n",
              "            style=\"display:none;\">\n",
              "\n",
              "  <svg xmlns=\"http://www.w3.org/2000/svg\" height=\"24px\" viewBox=\"0 -960 960 960\">\n",
              "    <path d=\"M120-120v-720h720v720H120Zm60-500h600v-160H180v160Zm220 220h160v-160H400v160Zm0 220h160v-160H400v160ZM180-400h160v-160H180v160Zm440 0h160v-160H620v160ZM180-180h160v-160H180v160Zm440 0h160v-160H620v160Z\"/>\n",
              "  </svg>\n",
              "    </button>\n",
              "\n",
              "  <style>\n",
              "    .colab-df-container {\n",
              "      display:flex;\n",
              "      gap: 12px;\n",
              "    }\n",
              "\n",
              "    .colab-df-convert {\n",
              "      background-color: #E8F0FE;\n",
              "      border: none;\n",
              "      border-radius: 50%;\n",
              "      cursor: pointer;\n",
              "      display: none;\n",
              "      fill: #1967D2;\n",
              "      height: 32px;\n",
              "      padding: 0 0 0 0;\n",
              "      width: 32px;\n",
              "    }\n",
              "\n",
              "    .colab-df-convert:hover {\n",
              "      background-color: #E2EBFA;\n",
              "      box-shadow: 0px 1px 2px rgba(60, 64, 67, 0.3), 0px 1px 3px 1px rgba(60, 64, 67, 0.15);\n",
              "      fill: #174EA6;\n",
              "    }\n",
              "\n",
              "    .colab-df-buttons div {\n",
              "      margin-bottom: 4px;\n",
              "    }\n",
              "\n",
              "    [theme=dark] .colab-df-convert {\n",
              "      background-color: #3B4455;\n",
              "      fill: #D2E3FC;\n",
              "    }\n",
              "\n",
              "    [theme=dark] .colab-df-convert:hover {\n",
              "      background-color: #434B5C;\n",
              "      box-shadow: 0px 1px 3px 1px rgba(0, 0, 0, 0.15);\n",
              "      filter: drop-shadow(0px 1px 2px rgba(0, 0, 0, 0.3));\n",
              "      fill: #FFFFFF;\n",
              "    }\n",
              "  </style>\n",
              "\n",
              "    <script>\n",
              "      const buttonEl =\n",
              "        document.querySelector('#df-6392e441-ab4f-45f3-bad6-397a492187e6 button.colab-df-convert');\n",
              "      buttonEl.style.display =\n",
              "        google.colab.kernel.accessAllowed ? 'block' : 'none';\n",
              "\n",
              "      async function convertToInteractive(key) {\n",
              "        const element = document.querySelector('#df-6392e441-ab4f-45f3-bad6-397a492187e6');\n",
              "        const dataTable =\n",
              "          await google.colab.kernel.invokeFunction('convertToInteractive',\n",
              "                                                    [key], {});\n",
              "        if (!dataTable) return;\n",
              "\n",
              "        const docLinkHtml = 'Like what you see? Visit the ' +\n",
              "          '<a target=\"_blank\" href=https://colab.research.google.com/notebooks/data_table.ipynb>data table notebook</a>'\n",
              "          + ' to learn more about interactive tables.';\n",
              "        element.innerHTML = '';\n",
              "        dataTable['output_type'] = 'display_data';\n",
              "        await google.colab.output.renderOutput(dataTable, element);\n",
              "        const docLink = document.createElement('div');\n",
              "        docLink.innerHTML = docLinkHtml;\n",
              "        element.appendChild(docLink);\n",
              "      }\n",
              "    </script>\n",
              "  </div>\n",
              "\n",
              "\n",
              "    <div id=\"df-ffb95503-e86f-4d53-96f2-024d4bdcc4dd\">\n",
              "      <button class=\"colab-df-quickchart\" onclick=\"quickchart('df-ffb95503-e86f-4d53-96f2-024d4bdcc4dd')\"\n",
              "                title=\"Suggest charts\"\n",
              "                style=\"display:none;\">\n",
              "\n",
              "<svg xmlns=\"http://www.w3.org/2000/svg\" height=\"24px\"viewBox=\"0 0 24 24\"\n",
              "     width=\"24px\">\n",
              "    <g>\n",
              "        <path d=\"M19 3H5c-1.1 0-2 .9-2 2v14c0 1.1.9 2 2 2h14c1.1 0 2-.9 2-2V5c0-1.1-.9-2-2-2zM9 17H7v-7h2v7zm4 0h-2V7h2v10zm4 0h-2v-4h2v4z\"/>\n",
              "    </g>\n",
              "</svg>\n",
              "      </button>\n",
              "\n",
              "<style>\n",
              "  .colab-df-quickchart {\n",
              "      --bg-color: #E8F0FE;\n",
              "      --fill-color: #1967D2;\n",
              "      --hover-bg-color: #E2EBFA;\n",
              "      --hover-fill-color: #174EA6;\n",
              "      --disabled-fill-color: #AAA;\n",
              "      --disabled-bg-color: #DDD;\n",
              "  }\n",
              "\n",
              "  [theme=dark] .colab-df-quickchart {\n",
              "      --bg-color: #3B4455;\n",
              "      --fill-color: #D2E3FC;\n",
              "      --hover-bg-color: #434B5C;\n",
              "      --hover-fill-color: #FFFFFF;\n",
              "      --disabled-bg-color: #3B4455;\n",
              "      --disabled-fill-color: #666;\n",
              "  }\n",
              "\n",
              "  .colab-df-quickchart {\n",
              "    background-color: var(--bg-color);\n",
              "    border: none;\n",
              "    border-radius: 50%;\n",
              "    cursor: pointer;\n",
              "    display: none;\n",
              "    fill: var(--fill-color);\n",
              "    height: 32px;\n",
              "    padding: 0;\n",
              "    width: 32px;\n",
              "  }\n",
              "\n",
              "  .colab-df-quickchart:hover {\n",
              "    background-color: var(--hover-bg-color);\n",
              "    box-shadow: 0 1px 2px rgba(60, 64, 67, 0.3), 0 1px 3px 1px rgba(60, 64, 67, 0.15);\n",
              "    fill: var(--button-hover-fill-color);\n",
              "  }\n",
              "\n",
              "  .colab-df-quickchart-complete:disabled,\n",
              "  .colab-df-quickchart-complete:disabled:hover {\n",
              "    background-color: var(--disabled-bg-color);\n",
              "    fill: var(--disabled-fill-color);\n",
              "    box-shadow: none;\n",
              "  }\n",
              "\n",
              "  .colab-df-spinner {\n",
              "    border: 2px solid var(--fill-color);\n",
              "    border-color: transparent;\n",
              "    border-bottom-color: var(--fill-color);\n",
              "    animation:\n",
              "      spin 1s steps(1) infinite;\n",
              "  }\n",
              "\n",
              "  @keyframes spin {\n",
              "    0% {\n",
              "      border-color: transparent;\n",
              "      border-bottom-color: var(--fill-color);\n",
              "      border-left-color: var(--fill-color);\n",
              "    }\n",
              "    20% {\n",
              "      border-color: transparent;\n",
              "      border-left-color: var(--fill-color);\n",
              "      border-top-color: var(--fill-color);\n",
              "    }\n",
              "    30% {\n",
              "      border-color: transparent;\n",
              "      border-left-color: var(--fill-color);\n",
              "      border-top-color: var(--fill-color);\n",
              "      border-right-color: var(--fill-color);\n",
              "    }\n",
              "    40% {\n",
              "      border-color: transparent;\n",
              "      border-right-color: var(--fill-color);\n",
              "      border-top-color: var(--fill-color);\n",
              "    }\n",
              "    60% {\n",
              "      border-color: transparent;\n",
              "      border-right-color: var(--fill-color);\n",
              "    }\n",
              "    80% {\n",
              "      border-color: transparent;\n",
              "      border-right-color: var(--fill-color);\n",
              "      border-bottom-color: var(--fill-color);\n",
              "    }\n",
              "    90% {\n",
              "      border-color: transparent;\n",
              "      border-bottom-color: var(--fill-color);\n",
              "    }\n",
              "  }\n",
              "</style>\n",
              "\n",
              "      <script>\n",
              "        async function quickchart(key) {\n",
              "          const quickchartButtonEl =\n",
              "            document.querySelector('#' + key + ' button');\n",
              "          quickchartButtonEl.disabled = true;  // To prevent multiple clicks.\n",
              "          quickchartButtonEl.classList.add('colab-df-spinner');\n",
              "          try {\n",
              "            const charts = await google.colab.kernel.invokeFunction(\n",
              "                'suggestCharts', [key], {});\n",
              "          } catch (error) {\n",
              "            console.error('Error during call to suggestCharts:', error);\n",
              "          }\n",
              "          quickchartButtonEl.classList.remove('colab-df-spinner');\n",
              "          quickchartButtonEl.classList.add('colab-df-quickchart-complete');\n",
              "        }\n",
              "        (() => {\n",
              "          let quickchartButtonEl =\n",
              "            document.querySelector('#df-ffb95503-e86f-4d53-96f2-024d4bdcc4dd button');\n",
              "          quickchartButtonEl.style.display =\n",
              "            google.colab.kernel.accessAllowed ? 'block' : 'none';\n",
              "        })();\n",
              "      </script>\n",
              "    </div>\n",
              "\n",
              "  <div id=\"id_a82cd65f-e7d4-4455-9b07-f354a7e1b750\">\n",
              "    <style>\n",
              "      .colab-df-generate {\n",
              "        background-color: #E8F0FE;\n",
              "        border: none;\n",
              "        border-radius: 50%;\n",
              "        cursor: pointer;\n",
              "        display: none;\n",
              "        fill: #1967D2;\n",
              "        height: 32px;\n",
              "        padding: 0 0 0 0;\n",
              "        width: 32px;\n",
              "      }\n",
              "\n",
              "      .colab-df-generate:hover {\n",
              "        background-color: #E2EBFA;\n",
              "        box-shadow: 0px 1px 2px rgba(60, 64, 67, 0.3), 0px 1px 3px 1px rgba(60, 64, 67, 0.15);\n",
              "        fill: #174EA6;\n",
              "      }\n",
              "\n",
              "      [theme=dark] .colab-df-generate {\n",
              "        background-color: #3B4455;\n",
              "        fill: #D2E3FC;\n",
              "      }\n",
              "\n",
              "      [theme=dark] .colab-df-generate:hover {\n",
              "        background-color: #434B5C;\n",
              "        box-shadow: 0px 1px 3px 1px rgba(0, 0, 0, 0.15);\n",
              "        filter: drop-shadow(0px 1px 2px rgba(0, 0, 0, 0.3));\n",
              "        fill: #FFFFFF;\n",
              "      }\n",
              "    </style>\n",
              "    <button class=\"colab-df-generate\" onclick=\"generateWithVariable('df_pandas')\"\n",
              "            title=\"Generate code using this dataframe.\"\n",
              "            style=\"display:none;\">\n",
              "\n",
              "  <svg xmlns=\"http://www.w3.org/2000/svg\" height=\"24px\"viewBox=\"0 0 24 24\"\n",
              "       width=\"24px\">\n",
              "    <path d=\"M7,19H8.4L18.45,9,17,7.55,7,17.6ZM5,21V16.75L18.45,3.32a2,2,0,0,1,2.83,0l1.4,1.43a1.91,1.91,0,0,1,.58,1.4,1.91,1.91,0,0,1-.58,1.4L9.25,21ZM18.45,9,17,7.55Zm-12,3A5.31,5.31,0,0,0,4.9,8.1,5.31,5.31,0,0,0,1,6.5,5.31,5.31,0,0,0,4.9,4.9,5.31,5.31,0,0,0,6.5,1,5.31,5.31,0,0,0,8.1,4.9,5.31,5.31,0,0,0,12,6.5,5.46,5.46,0,0,0,6.5,12Z\"/>\n",
              "  </svg>\n",
              "    </button>\n",
              "    <script>\n",
              "      (() => {\n",
              "      const buttonEl =\n",
              "        document.querySelector('#id_a82cd65f-e7d4-4455-9b07-f354a7e1b750 button.colab-df-generate');\n",
              "      buttonEl.style.display =\n",
              "        google.colab.kernel.accessAllowed ? 'block' : 'none';\n",
              "\n",
              "      buttonEl.onclick = () => {\n",
              "        google.colab.notebook.generateWithVariable('df_pandas');\n",
              "      }\n",
              "      })();\n",
              "    </script>\n",
              "  </div>\n",
              "\n",
              "    </div>\n",
              "  </div>\n"
            ],
            "application/vnd.google.colaboratory.intrinsic+json": {
              "type": "dataframe",
              "variable_name": "df_pandas",
              "summary": "{\n  \"name\": \"df_pandas\",\n  \"rows\": 4,\n  \"fields\": [\n    {\n      \"column\": \"Nama\",\n      \"properties\": {\n        \"dtype\": \"string\",\n        \"num_unique_values\": 4,\n        \"samples\": [\n          \"Budi\",\n          \"Dina\",\n          \"Ali\"\n        ],\n        \"semantic_type\": \"\",\n        \"description\": \"\"\n      }\n    },\n    {\n      \"column\": \"Usia\",\n      \"properties\": {\n        \"dtype\": \"number\",\n        \"std\": 9,\n        \"min\": 23,\n        \"max\": 45,\n        \"num_unique_values\": 4,\n        \"samples\": [\n          23,\n          45,\n          34\n        ],\n        \"semantic_type\": \"\",\n        \"description\": \"\"\n      }\n    }\n  ]\n}"
            }
          },
          "metadata": {},
          "execution_count": 5
        }
      ]
    },
    {
      "cell_type": "code",
      "source": [
        "import pandas as pd\n",
        "\n",
        "# Membuat DataFrame Pandas\n",
        "data_pandas = {\"Nama\": [\"Ali\", \"Budi\", \"Citra\", \"Dina\"], \"Usia\": [34, 23, 29, 45]}\n",
        "df_pandas = pd.DataFrame(data_pandas)\n",
        "\n",
        "# Menampilkan DataFrame Pandas\n",
        "df_pandas\n",
        "\n",
        "# --- Modifikasi Tugas 3 ---\n",
        "\n",
        "# Menambahkan kolom baru\n",
        "df_pandas[\"Pekerjaan\"] = [\"Dokter\", \"Guru\", \"Insinyur\", \"Perawat\"]\n",
        "df_pandas[\"Hobi\"] = [\"Membaca\", \"Olahraga\", \"Memasak\", \"Traveling\"]\n",
        "df_pandas[\"Gender\"] = [\"Laki-laki\", \"Laki-laki\", \"Perempuan\", \"Perempuan\"]\n",
        "\n",
        "# Menampilkan DataFrame yang sudah dimodifikasi\n",
        "print(\"DataFrame dengan kolom tambahan:\")\n",
        "print(df_pandas)\n",
        "\n",
        "# Filtering data: ambil hanya yang usia > 30\n",
        "df_filtered = df_pandas[df_pandas[\"Usia\"] > 30]\n",
        "\n",
        "print(\"\\nDataFrame setelah filtering usia > 30:\")\n",
        "print(df_filtered)\n"
      ],
      "metadata": {
        "colab": {
          "base_uri": "https://localhost:8080/"
        },
        "id": "HGxzTJAS67gW",
        "outputId": "05a4f5d8-045e-4382-8a3b-e2a50edbaeb1"
      },
      "execution_count": 6,
      "outputs": [
        {
          "output_type": "stream",
          "name": "stdout",
          "text": [
            "DataFrame dengan kolom tambahan:\n",
            "    Nama  Usia Pekerjaan       Hobi     Gender\n",
            "0    Ali    34    Dokter    Membaca  Laki-laki\n",
            "1   Budi    23      Guru   Olahraga  Laki-laki\n",
            "2  Citra    29  Insinyur    Memasak  Perempuan\n",
            "3   Dina    45   Perawat  Traveling  Perempuan\n",
            "\n",
            "DataFrame setelah filtering usia > 30:\n",
            "   Nama  Usia Pekerjaan       Hobi     Gender\n",
            "0   Ali    34    Dokter    Membaca  Laki-laki\n",
            "3  Dina    45   Perawat  Traveling  Perempuan\n"
          ]
        }
      ]
    },
    {
      "cell_type": "code",
      "source": [
        "import pandas as pd\n",
        "\n",
        "# Membuat DataFrame Pandas\n",
        "data_pandas = {\"Nama\": [\"Ali\", \"Budi\", \"Citra\", \"Dina\"], \"Usia\": [34, 23, 29, 45]}\n",
        "df_pandas = pd.DataFrame(data_pandas)\n",
        "\n",
        "# Membuat DataFrame kedua\n",
        "data_pandas_2 = {\"Nama\": [\"Ali\", \"Budi\", \"Citra\", \"Dina\"], \"Pekerjaan\": [\"Dokter\", \"Guru\", \"Insinyur\", \"Perawat\"]}\n",
        "df_pandas_2 = pd.DataFrame(data_pandas_2)\n",
        "\n",
        "# Join antara dua DataFrame\n",
        "df_joined = pd.merge(df_pandas, df_pandas_2, on=\"Nama\")\n",
        "print(df_joined)\n",
        "\n",
        "# Menghitung statistik deskriptif\n",
        "print(df_pandas.describe())\n",
        "\n",
        "# Plotting Data\n",
        "import matplotlib.pyplot as plt\n",
        "df_pandas['Usia'].plot(kind='bar')\n",
        "plt.show()\n"
      ],
      "metadata": {
        "colab": {
          "base_uri": "https://localhost:8080/",
          "height": 668
        },
        "id": "kjH8C_Hs7uf_",
        "outputId": "3b1c4e5e-d841-4e6d-9835-bdb9a3fbaf68"
      },
      "execution_count": 7,
      "outputs": [
        {
          "output_type": "stream",
          "name": "stdout",
          "text": [
            "    Nama  Usia Pekerjaan\n",
            "0    Ali    34    Dokter\n",
            "1   Budi    23      Guru\n",
            "2  Citra    29  Insinyur\n",
            "3   Dina    45   Perawat\n",
            "            Usia\n",
            "count   4.000000\n",
            "mean   32.750000\n",
            "std     9.322911\n",
            "min    23.000000\n",
            "25%    27.500000\n",
            "50%    31.500000\n",
            "75%    36.750000\n",
            "max    45.000000\n"
          ]
        },
        {
          "output_type": "display_data",
          "data": {
            "text/plain": [
              "<Figure size 640x480 with 1 Axes>"
            ],
            "image/png": "[encoded data removed]"
          },
          "metadata": {}
        }
      ]
    },
    {
      "cell_type": "code",
      "source": [
        "import pandas as pd\n",
        "\n",
        "# Membuat DataFrame Pandas\n",
        "data_pandas = {\"Nama\": [\"Ali\", \"Budi\", \"Citra\", \"Dina\"], \"Usia\": [34, 23, 29, 45]}\n",
        "df_pandas = pd.DataFrame(data_pandas)\n",
        "\n",
        "# Membuat DataFrame kedua\n",
        "data_pandas_2 = {\"Nama\": [\"Ali\", \"Budi\", \"Citra\", \"Dina\"], \"Pekerjaan\": [\"Dokter\", \"Guru\", \"Insinyur\", \"Perawat\"]}\n",
        "df_pandas_2 = pd.DataFrame(data_pandas_2)\n",
        "\n",
        "# Join antara dua DataFrame\n",
        "df_joined = pd.merge(df_pandas, df_pandas_2, on=\"Nama\")\n",
        "print(df_joined)\n",
        "\n",
        "# Menghitung statistik deskriptif\n",
        "print(df_pandas.describe())\n",
        "\n",
        "# Plotting Data\n",
        "import matplotlib.pyplot as plt\n",
        "df_pandas['Usia'].plot(kind='bar')\n",
        "plt.show()\n",
        "\n",
        "# Visualisasi data gabungan dengan grafik batang\n",
        "df_joined.plot(x='Nama', y='Usia', kind='bar', title='Usia berdasarkan Nama')\n",
        "plt.ylabel('Usia')\n",
        "plt.show()"
      ],
      "metadata": {
        "colab": {
          "base_uri": "https://localhost:8080/",
          "height": 1000
        },
        "id": "nocDNvviCUA0",
        "outputId": "e0ba6134-8b8a-43c8-e64c-97bf02523277"
      },
      "execution_count": 14,
      "outputs": [
        {
          "output_type": "stream",
          "name": "stdout",
          "text": [
            "    Nama  Usia Pekerjaan\n",
            "0    Ali    34    Dokter\n",
            "1   Budi    23      Guru\n",
            "2  Citra    29  Insinyur\n",
            "3   Dina    45   Perawat\n",
            "            Usia\n",
            "count   4.000000\n",
            "mean   32.750000\n",
            "std     9.322911\n",
            "min    23.000000\n",
            "25%    27.500000\n",
            "50%    31.500000\n",
            "75%    36.750000\n",
            "max    45.000000\n"
          ]
        },
        {
          "output_type": "display_data",
          "data": {
            "text/plain": [
              "<Figure size 640x480 with 1 Axes>"
            ],
            "image/png": "[encoded data removed]"
          },
          "metadata": {}
        },
        {
          "output_type": "display_data",
          "data": {
            "text/plain": [
              "<Figure size 640x480 with 1 Axes>"
            ],
            "image/png": "[encoded data removed]"
          },
          "metadata": {}
        }
      ]
    },
    {
      "cell_type": "code",
      "source": [
        "# Mengonversi DataFrame dari PySpark ke Pandas\n",
        "df_pandas_from_spark = df.toPandas()\n",
        "\n",
        "# Mengonversi DataFrame dari Pandas ke PySpark\n",
        "df_spark_from_pandas = spark.createDataFrame(df_pandas)\n",
        "\n",
        "# Menampilkan DataFrame hasil konversi\n",
        "df_pandas_from_spark, df_spark_from_pandas.show()"
      ],
      "metadata": {
        "colab": {
          "base_uri": "https://localhost:8080/"
        },
        "id": "07FR5FyGEOyY",
        "outputId": "f87b64cc-63f7-451f-a2cd-acae6e1eec77"
      },
      "execution_count": 15,
      "outputs": [
        {
          "output_type": "stream",
          "name": "stdout",
          "text": [
            "+-----+----+\n",
            "| Nama|Usia|\n",
            "+-----+----+\n",
            "|  Ali|  34|\n",
            "| Budi|  23|\n",
            "|Citra|  29|\n",
            "| Dina|  45|\n",
            "+-----+----+\n",
            "\n"
          ]
        },
        {
          "output_type": "execute_result",
          "data": {
            "text/plain": [
              "(    Nama  Usia\n",
              " 0    Ali    34\n",
              " 1   Budi    23\n",
              " 2  Citra    29\n",
              " 3   Dina    45,\n",
              " None)"
            ]
          },
          "metadata": {},
          "execution_count": 15
        }
      ]
    },
    {
      "cell_type": "code",
      "source": [
        "import pandas as pd\n",
        "\n",
        "# --- kode asli ---\n",
        "import pandas # Mengonversi DataFrame dari PySpark ke Pandas\n",
        "df_pandas_from_spark = df.toPandas()\n",
        "\n",
        "# Mengonversi DataFrame dari Pandas ke PySpark\n",
        "df_spark_from_pandas = spark.createDataFrame(df_pandas)\n",
        "\n",
        "# Menampilkan DataFrame hasil konversi\n",
        "df_pandas_from_spark, df_spark_from_pandas.show()\n",
        "\n",
        "# --- lanjutan untuk tugas 5 ---\n",
        "\n",
        "# 1. Buat DataFrame Pandas tambahan\n",
        "data_pandas = {\n",
        "    \"Nama\": [\"Eka\", \"Farah\"],\n",
        "    \"Usia\": [31, 27],\n",
        "    \"Pekerjaan\": [\"Desainer\", \"Mahasiswa\"],\n",
        "    \"Hobi\": [\"Fotografi\", \"Membaca\"],\n",
        "    \"Gender\": [\"Perempuan\", \"Perempuan\"]\n",
        "}\n",
        "df_pandas_extra = pd.DataFrame(data_pandas)\n",
        "\n",
        "# 2. Gabungkan Data dari PySpark (df -> Pandas) dengan Data Pandas tambahan\n",
        "df_combined = pd.concat([df_pandas_from_spark, df_pandas_extra], ignore_index=True)\n",
        "\n",
        "# 3. Konversi kembali ke PySpark jika diperlukan\n",
        "df_spark_combined = spark.createDataFrame(df_combined)\n",
        "\n",
        "# 4. Analisis sederhana: menghitung rata-rata usia\n",
        "rata_usia = df_combined[\"Usia\"].mean()\n",
        "print(\"Rata-rata usia gabungan:\", rata_usia)\n",
        "\n",
        "# Menampilkan hasil gabungan di PySpark\n",
        "df_spark_combined.show()\n"
      ],
      "metadata": {
        "colab": {
          "base_uri": "https://localhost:8080/"
        },
        "id": "TcPu1IGVGHhg",
        "outputId": "f102d7f7-f0d9-4d46-d8d4-e9d20afa2938"
      },
      "execution_count": 16,
      "outputs": [
        {
          "output_type": "stream",
          "name": "stdout",
          "text": [
            "+-----+----+\n",
            "| Nama|Usia|\n",
            "+-----+----+\n",
            "|  Ali|  34|\n",
            "| Budi|  23|\n",
            "|Citra|  29|\n",
            "| Dina|  45|\n",
            "+-----+----+\n",
            "\n",
            "Rata-rata usia gabungan: 31.5\n",
            "+-----+----+---------+---------+---------+\n",
            "| Nama|Usia|Pekerjaan|     Hobi|   Gender|\n",
            "+-----+----+---------+---------+---------+\n",
            "|  Ali|  34|      NaN|      NaN|      NaN|\n",
            "| Budi|  23|      NaN|      NaN|      NaN|\n",
            "|Citra|  29|      NaN|      NaN|      NaN|\n",
            "| Dina|  45|      NaN|      NaN|      NaN|\n",
            "|  Eka|  31| Desainer|Fotografi|Perempuan|\n",
            "|Farah|  27|Mahasiswa|  Membaca|Perempuan|\n",
            "+-----+----+---------+---------+---------+\n",
            "\n"
          ]
        }
      ]
    },
    {
      "cell_type": "code",
      "source": [
        "# Mengonversi DataFrame dari PySpark ke Pandas\n",
        "df_pandas_from_spark = df.toPandas()\n",
        "\n",
        "# Mengonversi DataFrame dari Pandas ke PySpark\n",
        "df_spark_from_pandas = spark.createDataFrame(df_pandas)\n",
        "\n",
        "# Menampilkan DataFrame hasil konversi\n",
        "df_pandas_from_spark, df_spark_from_pandas.show()\n"
      ],
      "metadata": {
        "colab": {
          "base_uri": "https://localhost:8080/"
        },
        "id": "JisgCkZfHETD",
        "outputId": "000da313-8bb6-4ae7-9ad5-094c043166e3"
      },
      "execution_count": 17,
      "outputs": [
        {
          "output_type": "stream",
          "name": "stdout",
          "text": [
            "+-----+----+\n",
            "| Nama|Usia|\n",
            "+-----+----+\n",
            "|  Ali|  34|\n",
            "| Budi|  23|\n",
            "|Citra|  29|\n",
            "| Dina|  45|\n",
            "+-----+----+\n",
            "\n"
          ]
        },
        {
          "output_type": "execute_result",
          "data": {
            "text/plain": [
              "(    Nama  Usia\n",
              " 0    Ali    34\n",
              " 1   Budi    23\n",
              " 2  Citra    29\n",
              " 3   Dina    45,\n",
              " None)"
            ]
          },
          "metadata": {},
          "execution_count": 17
        }
      ]
    },
    {
      "cell_type": "code",
      "source": [
        "# Mengonversi DataFrame dari PySpark ke Pandas\n",
        "df_pandas_from_spark = df.toPandas()\n",
        "\n",
        "# Mengonversi DataFrame dari Pandas ke PySpark\n",
        "df_spark_from_pandas = spark.createDataFrame(df_pandas)\n",
        "\n",
        "# Menampilkan DataFrame hasil konversi\n",
        "df_pandas_from_spark, df_spark_from_pandas.show()\n",
        "\n",
        "df_pandas_converted = df_spark_from_pandas.toPandas()\n",
        "\n",
        "# Gabungkan kedua DataFrame Pandas\n",
        "df_combined = pd.concat([df_pandas_from_spark, df_pandas_converted], ignore_index=True)\n",
        "\n",
        "# Lakukan operasi statistik: mencari nilai maksimum usia\n",
        "max_usia = df_combined[\"Usia\"].max()\n",
        "\n",
        "print(\"Data gabungan (PySpark + Pandas):\")\n",
        "print(df_combined)\n",
        "print(\"\\nNilai maksimum Usia:\", max_usia)\n"
      ],
      "metadata": {
        "colab": {
          "base_uri": "https://localhost:8080/"
        },
        "id": "8vbOAj4OIku4",
        "outputId": "c10b1a19-5795-482d-b4ef-f20e1d867b00"
      },
      "execution_count": 18,
      "outputs": [
        {
          "output_type": "stream",
          "name": "stdout",
          "text": [
            "+-----+----+\n",
            "| Nama|Usia|\n",
            "+-----+----+\n",
            "|  Ali|  34|\n",
            "| Budi|  23|\n",
            "|Citra|  29|\n",
            "| Dina|  45|\n",
            "+-----+----+\n",
            "\n",
            "Data gabungan (PySpark + Pandas):\n",
            "    Nama  Usia\n",
            "0    Ali    34\n",
            "1   Budi    23\n",
            "2  Citra    29\n",
            "3   Dina    45\n",
            "4    Ali    34\n",
            "5   Budi    23\n",
            "6  Citra    29\n",
            "7   Dina    45\n",
            "\n",
            "Nilai maksimum Usia: 45\n"
          ]
        }
      ]
    }
  ]
}