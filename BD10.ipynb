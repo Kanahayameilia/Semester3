{
 "cells": [
  {
   "cell_type": "code",
   "execution_count": 1,
   "id": "d6013f2f-6d37-4ecf-82b6-91568399c24d",
   "metadata": {},
   "outputs": [],
   "source": [
    "import pymongo\n",
    "client = pymongo.MongoClient(\"mongodb://localhost:27017/\")\n",
    "db = client[\"BD10\"]\n"
   ]
  },
  {
   "cell_type": "code",
   "execution_count": 2,
   "id": "b131d562-826d-4d97-8726-96d47a1a3a6b",
   "metadata": {},
   "outputs": [
    {
     "name": "stdout",
     "output_type": "stream",
     "text": [
      "Connected to MongoDB\n",
      "Database name  : company_db\n",
      "Collection name: employees\n"
     ]
    }
   ],
   "source": [
    "# Import library dari pymongo\n",
    "from pymongo import MongoClient\n",
    "\n",
    "#Inisialisasi client dan koneksi ke server MongoDB lokal\n",
    "client = MongoClient('mongodb://localhost:27017/')\n",
    "\n",
    "#Membuat atau memilih database bernama 'company_db'\n",
    "db = client['company_db']\n",
    "\n",
    "#Membuat atau memilih collection bernama 'employees'\n",
    "collection = db['employees']\n",
    "\n",
    "#engecek koneksi dengan mencetak pesan\n",
    "print('Connected to MongoDB')\n",
    "\n",
    "# (Opsional) Cek nama database yang sudah terkoneksi\n",
    "print('Database name  :', db.name)\n",
    "print('Collection name:', collection.name)\n"
   ]
  },
  {
   "cell_type": "code",
   "execution_count": 4,
   "id": "04bad57d-56af-4e27-b156-aced70cf7e71",
   "metadata": {},
   "outputs": [
    {
     "name": "stdout",
     "output_type": "stream",
     "text": [
      "Data pertama (Alice) berhasil dimasukkan\n",
      "Data tambahan berhasil dimasukkan\n",
      "\n",
      "Data karyawan saat ini:\n",
      "{'_id': ObjectId('6905fa611f84b479983d0679'), 'name': 'Alice', 'department': 'Finance', 'age': 29, 'salary': 4500}\n",
      "{'_id': ObjectId('6905fa611f84b479983d067a'), 'name': 'Bob', 'department': 'IT', 'age': 25, 'salary': 5500}\n",
      "{'_id': ObjectId('6905fa611f84b479983d067c'), 'name': 'Diana', 'department': 'Marketing', 'age': 27, 'salary': 4800}\n",
      "{'_id': ObjectId('6905fa611f84b479983d067d'), 'name': 'Evan', 'department': 'Finance', 'age': 30, 'salary': 4600}\n",
      "{'_id': ObjectId('6905fa8f1f84b479983d067f'), 'name': 'Alice', 'department': 'Finance', 'age': 29, 'salary': 4500}\n",
      "{'_id': ObjectId('6905fa8f1f84b479983d0680'), 'name': 'Bob', 'department': 'IT', 'age': 25, 'salary': 5000}\n",
      "{'_id': ObjectId('6905fa8f1f84b479983d0681'), 'name': 'Charlie', 'department': 'HR', 'age': 32, 'salary': 4200}\n",
      "{'_id': ObjectId('6905fa8f1f84b479983d0682'), 'name': 'Diana', 'department': 'Marketing', 'age': 27, 'salary': 4800}\n",
      "{'_id': ObjectId('6905fa8f1f84b479983d0683'), 'name': 'Evan', 'department': 'Finance', 'age': 30, 'salary': 4600}\n",
      "\n",
      "Data Bob berhasil diupdate (salary -> 5500)\n",
      " Data Charlie berhasil dihapus\n",
      "\n",
      " Data karyawan setelah update dan delete:\n",
      "{'_id': ObjectId('6905fa611f84b479983d0679'), 'name': 'Alice', 'department': 'Finance', 'age': 29, 'salary': 4500}\n",
      "{'_id': ObjectId('6905fa611f84b479983d067a'), 'name': 'Bob', 'department': 'IT', 'age': 25, 'salary': 5500}\n",
      "{'_id': ObjectId('6905fa611f84b479983d067c'), 'name': 'Diana', 'department': 'Marketing', 'age': 27, 'salary': 4800}\n",
      "{'_id': ObjectId('6905fa611f84b479983d067d'), 'name': 'Evan', 'department': 'Finance', 'age': 30, 'salary': 4600}\n",
      "{'_id': ObjectId('6905fa8f1f84b479983d067f'), 'name': 'Alice', 'department': 'Finance', 'age': 29, 'salary': 4500}\n",
      "{'_id': ObjectId('6905fa8f1f84b479983d0680'), 'name': 'Bob', 'department': 'IT', 'age': 25, 'salary': 5000}\n",
      "{'_id': ObjectId('6905fa8f1f84b479983d0682'), 'name': 'Diana', 'department': 'Marketing', 'age': 27, 'salary': 4800}\n",
      "{'_id': ObjectId('6905fa8f1f84b479983d0683'), 'name': 'Evan', 'department': 'Finance', 'age': 30, 'salary': 4600}\n"
     ]
    }
   ],
   "source": [
    "from pymongo import MongoClient\n",
    "\n",
    "#Koneksi ke MongoDB dan pilih database + collection\n",
    "client = MongoClient('mongodb://localhost:27017/')\n",
    "db = client['company_db']\n",
    "collection = db['employees']\n",
    "\n",
    "# Contoh insert satu data\n",
    "employee_data = {\n",
    "    'name': 'Alice',\n",
    "    'department': 'Finance',\n",
    "    'age': 29,\n",
    "    'salary': 4500\n",
    "}\n",
    "collection.insert_one(employee_data)\n",
    "print('Data pertama (Alice) berhasil dimasukkan')\n",
    "\n",
    "# Tugas: Insert beberapa data tambahan\n",
    "employees = [\n",
    "    {'name': 'Bob', 'department': 'IT', 'age': 25, 'salary': 5000},\n",
    "    {'name': 'Charlie', 'department': 'HR', 'age': 32, 'salary': 4200},\n",
    "    {'name': 'Diana', 'department': 'Marketing', 'age': 27, 'salary': 4800},\n",
    "    {'name': 'Evan', 'department': 'Finance', 'age': 30, 'salary': 4600}\n",
    "]\n",
    "collection.insert_many(employees)\n",
    "print('Data tambahan berhasil dimasukkan')\n",
    "\n",
    "# READ (MENAMPILKAN DATA)\n",
    "print('\\nData karyawan saat ini:')\n",
    "for employee in collection.find():\n",
    "    print(employee)\n",
    "\n",
    "# UPDATE (MENGUBAH DATA)\n",
    "\n",
    "# Contoh: Update salary Bob menjadi 5500\n",
    "collection.update_one({'name': 'Bob'}, {'$set': {'salary': 5500}})\n",
    "print('\\nData Bob berhasil diupdate (salary -> 5500)')\n",
    "\n",
    "# DELETE (MENGHAPUS DATA)\n",
    "\n",
    "# Contoh: Hapus data karyawan bernama Charlie\n",
    "collection.delete_one({'name': 'Charlie'})\n",
    "print(' Data Charlie berhasil dihapus')\n",
    "\n",
    "# TAMPILKAN DATA AKHIR\n",
    "\n",
    "print('\\n Data karyawan setelah update dan delete:')\n",
    "for employee in collection.find():\n",
    "    print(employee)\n"
   ]
  },
  {
   "cell_type": "code",
   "execution_count": 5,
   "id": "ad5396b7-ffd8-4c5a-8046-fb5197238894",
   "metadata": {},
   "outputs": [
    {
     "name": "stdout",
     "output_type": "stream",
     "text": [
      " Rata-rata gaji per departemen:\n",
      "{'_id': 'IT', 'average_salary': 5250.0}\n",
      "{'_id': 'Finance', 'average_salary': 4550.0}\n",
      "{'_id': 'Marketing', 'average_salary': 4800.0}\n"
     ]
    }
   ],
   "source": [
    "from pymongo import MongoClient\n",
    "\n",
    "# Koneksi ke MongoDB\n",
    "client = MongoClient('mongodb://localhost:27017/')\n",
    "db = client['company_db']\n",
    "collection = db['employees']\n",
    "\n",
    "# Query Aggregation untuk menghitung rata-rata gaji per departemen\n",
    "pipeline = [\n",
    "    {'$group': {'_id': '$department', 'average_salary': {'$avg': '$salary'}}}\n",
    "]\n",
    "\n",
    "print(' Rata-rata gaji per departemen:')\n",
    "for result in collection.aggregate(pipeline):\n",
    "    print(result)\n"
   ]
  },
  {
   "cell_type": "code",
   "execution_count": 6,
   "id": "f67433e2-d998-42a1-882f-7224219566fa",
   "metadata": {},
   "outputs": [
    {
     "name": "stdout",
     "output_type": "stream",
     "text": [
      "10 data produk berhasil dimasukkan ke koleksi \"products\".\n",
      "{'_id': ObjectId('6905fd8e1f84b479983d0686'), 'name': 'Laptop Lenovo', 'category': 'Elektronik', 'price': 9500000, 'stock': 15}\n",
      "{'_id': ObjectId('6905fd8e1f84b479983d0687'), 'name': 'Headphone Sony', 'category': 'Elektronik', 'price': 1250000, 'stock': 25}\n",
      "{'_id': ObjectId('6905fd8e1f84b479983d0688'), 'name': 'Mouse Logitech', 'category': 'Aksesoris', 'price': 250000, 'stock': 40}\n",
      "{'_id': ObjectId('6905fd8e1f84b479983d0689'), 'name': 'Keyboard Razer', 'category': 'Aksesoris', 'price': 850000, 'stock': 30}\n",
      "{'_id': ObjectId('6905fd8e1f84b479983d068a'), 'name': 'Monitor Samsung', 'category': 'Elektronik', 'price': 2100000, 'stock': 10}\n",
      "{'_id': ObjectId('6905fd8e1f84b479983d068b'), 'name': 'Kursi Gaming', 'category': 'Furniture', 'price': 1800000, 'stock': 8}\n",
      "{'_id': ObjectId('6905fd8e1f84b479983d068c'), 'name': 'Meja Kantor', 'category': 'Furniture', 'price': 1500000, 'stock': 12}\n",
      "{'_id': ObjectId('6905fd8e1f84b479983d068d'), 'name': 'Flashdisk Sandisk 64GB', 'category': 'Penyimpanan', 'price': 120000, 'stock': 60}\n",
      "{'_id': ObjectId('6905fd8e1f84b479983d068e'), 'name': 'Harddisk Seagate 1TB', 'category': 'Penyimpanan', 'price': 750000, 'stock': 20}\n",
      "{'_id': ObjectId('6905fd8e1f84b479983d068f'), 'name': 'Printer Canon', 'category': 'Elektronik', 'price': 1600000, 'stock': 7}\n"
     ]
    }
   ],
   "source": [
    "from pymongo import MongoClient\n",
    "\n",
    "# Koneksi ke MongoDB\n",
    "client = MongoClient('mongodb://localhost:27017/')\n",
    "db = client['company_db']\n",
    "\n",
    "# Membuat / mengakses koleksi baru bernama 'products'\n",
    "collection = db['products']\n",
    "\n",
    "# Data produk (minimal 10 produk)\n",
    "products_data = [\n",
    "    {'name': 'Laptop Lenovo', 'category': 'Elektronik', 'price': 9500000, 'stock': 15},\n",
    "    {'name': 'Headphone Sony', 'category': 'Elektronik', 'price': 1250000, 'stock': 25},\n",
    "    {'name': 'Mouse Logitech', 'category': 'Aksesoris', 'price': 250000, 'stock': 40},\n",
    "    {'name': 'Keyboard Razer', 'category': 'Aksesoris', 'price': 850000, 'stock': 30},\n",
    "    {'name': 'Monitor Samsung', 'category': 'Elektronik', 'price': 2100000, 'stock': 10},\n",
    "    {'name': 'Kursi Gaming', 'category': 'Furniture', 'price': 1800000, 'stock': 8},\n",
    "    {'name': 'Meja Kantor', 'category': 'Furniture', 'price': 1500000, 'stock': 12},\n",
    "    {'name': 'Flashdisk Sandisk 64GB', 'category': 'Penyimpanan', 'price': 120000, 'stock': 60},\n",
    "    {'name': 'Harddisk Seagate 1TB', 'category': 'Penyimpanan', 'price': 750000, 'stock': 20},\n",
    "    {'name': 'Printer Canon', 'category': 'Elektronik', 'price': 1600000, 'stock': 7}\n",
    "]\n",
    "\n",
    "# Menambahkan data ke koleksi\n",
    "collection.insert_many(products_data)\n",
    "print('10 data produk berhasil dimasukkan ke koleksi \"products\".')\n",
    "\n",
    "# Menampilkan semua data produk untuk verifikasi\n",
    "for product in collection.find():\n",
    "    print(product)\n"
   ]
  },
  {
   "cell_type": "code",
   "execution_count": 7,
   "id": "ac9d2159-ef3b-4cb8-b9db-dff655dca823",
   "metadata": {},
   "outputs": [
    {
     "name": "stdout",
     "output_type": "stream",
     "text": [
      "Rata-rata harga produk: 1972000.0\n",
      "\n",
      "Produk dengan harga di atas rata-rata:\n",
      "{'_id': ObjectId('6905fd8e1f84b479983d0686'), 'name': 'Laptop Lenovo', 'category': 'Elektronik', 'price': 9500000, 'stock': 15}\n",
      "{'_id': ObjectId('6905fd8e1f84b479983d068a'), 'name': 'Monitor Samsung', 'category': 'Elektronik', 'price': 2100000, 'stock': 10}\n"
     ]
    }
   ],
   "source": [
    "from pymongo import MongoClient\n",
    "\n",
    "# Koneksi ke MongoDB\n",
    "client = MongoClient('mongodb://localhost:27017/')\n",
    "db = client['company_db']\n",
    "collection = db['products']\n",
    "\n",
    "# Hitung rata-rata harga semua produk\n",
    "pipeline = [\n",
    "    {'$group': {'_id': None, 'average_price': {'$avg': '$price'}}}\n",
    "]\n",
    "avg_result = list(collection.aggregate(pipeline))\n",
    "average_price = avg_result[0]['average_price']\n",
    "print(f'Rata-rata harga produk: {average_price}')\n",
    "\n",
    "# Query produk dengan harga di atas rata-rata\n",
    "print('\\nProduk dengan harga di atas rata-rata:')\n",
    "for product in collection.find({'price': {'$gt': average_price}}):\n",
    "    print(product)\n"
   ]
  },
  {
   "cell_type": "code",
   "execution_count": 8,
   "id": "577a27f7-8df5-4172-8e25-54fc339fbc48",
   "metadata": {},
   "outputs": [
    {
     "name": "stdout",
     "output_type": "stream",
     "text": [
      "Total produk dalam setiap kategori:\n",
      "{'_id': 'Furniture', 'total_products': 2}\n",
      "{'_id': 'Penyimpanan', 'total_products': 2}\n",
      "{'_id': 'Aksesoris', 'total_products': 2}\n",
      "{'_id': 'Elektronik', 'total_products': 4}\n"
     ]
    }
   ],
   "source": [
    "from pymongo import MongoClient\n",
    "\n",
    "# Koneksi ke MongoDB\n",
    "client = MongoClient('mongodb://localhost:27017/')\n",
    "db = client['company_db']\n",
    "collection = db['products']\n",
    "\n",
    "# Aggregation pipeline untuk menghitung total produk per kategori\n",
    "pipeline = [\n",
    "    {'$group': {'_id': '$category', 'total_products': {'$sum': 1}}}\n",
    "]\n",
    "\n",
    "# Menjalankan pipeline dan menampilkan hasil\n",
    "print('Total produk dalam setiap kategori:')\n",
    "for result in collection.aggregate(pipeline):\n",
    "    print(result)\n"
   ]
  },
  {
   "cell_type": "code",
   "execution_count": 9,
   "id": "bf9050d6-3db2-4622-b0a7-e3b82792fff8",
   "metadata": {},
   "outputs": [
    {
     "name": "stdout",
     "output_type": "stream",
     "text": [
      "5 Karyawan dengan gaji tertinggi per departemen:\n",
      "{'_id': 'IT', 'top_5_employees': [{'name': 'Bob', 'salary': 5500}, {'name': 'Bob', 'salary': 5000}]}\n",
      "{'_id': 'Finance', 'top_5_employees': [{'name': 'Evan', 'salary': 4600}, {'name': 'Evan', 'salary': 4600}, {'name': 'Alice', 'salary': 4500}, {'name': 'Alice', 'salary': 4500}]}\n",
      "{'_id': 'Marketing', 'top_5_employees': [{'name': 'Diana', 'salary': 4800}, {'name': 'Diana', 'salary': 4800}]}\n"
     ]
    }
   ],
   "source": [
    "from pymongo import MongoClient\n",
    "\n",
    "# Koneksi ke MongoDB\n",
    "client = MongoClient('mongodb://localhost:27017/')\n",
    "db = client['company_db']\n",
    "collection = db['employees']\n",
    "\n",
    "# Aggregation pipeline untuk mencari 5 karyawan dengan gaji tertinggi per departemen\n",
    "pipeline = [\n",
    "    {'$sort': {'department': 1, 'salary': -1}},         # Urutkan berdasarkan departemen dan gaji tertinggi\n",
    "    {'$group': {\n",
    "        '_id': '$department',\n",
    "        'top_employees': {'$push': {'name': '$name', 'salary': '$salary'}}\n",
    "    }},\n",
    "    {'$project': {\n",
    "        'top_5_employees': {'$slice': ['$top_employees', 5]}  # Ambil hanya 5 teratas per departemen\n",
    "    }}\n",
    "]\n",
    "\n",
    "# Jalankan pipeline dan tampilkan hasilnya\n",
    "print('5 Karyawan dengan gaji tertinggi per departemen:')\n",
    "for result in collection.aggregate(pipeline):\n",
    "    print(result)\n"
   ]
  },
  {
   "cell_type": "code",
   "execution_count": 10,
   "id": "3a2f5372-6e72-418a-b746-0a7f088a02c9",
   "metadata": {},
   "outputs": [
    {
     "name": "stdout",
     "output_type": "stream",
     "text": [
      "0 karyawan di bawah usia 25 tahun telah dihapus.\n",
      "\n",
      "Data karyawan yang tersisa:\n",
      "{'_id': ObjectId('6905fa611f84b479983d0679'), 'name': 'Alice', 'department': 'Finance', 'age': 29, 'salary': 4500}\n",
      "{'_id': ObjectId('6905fa611f84b479983d067a'), 'name': 'Bob', 'department': 'IT', 'age': 25, 'salary': 5500}\n",
      "{'_id': ObjectId('6905fa611f84b479983d067c'), 'name': 'Diana', 'department': 'Marketing', 'age': 27, 'salary': 4800}\n",
      "{'_id': ObjectId('6905fa611f84b479983d067d'), 'name': 'Evan', 'department': 'Finance', 'age': 30, 'salary': 4600}\n",
      "{'_id': ObjectId('6905fa8f1f84b479983d067f'), 'name': 'Alice', 'department': 'Finance', 'age': 29, 'salary': 4500}\n",
      "{'_id': ObjectId('6905fa8f1f84b479983d0680'), 'name': 'Bob', 'department': 'IT', 'age': 25, 'salary': 5000}\n",
      "{'_id': ObjectId('6905fa8f1f84b479983d0682'), 'name': 'Diana', 'department': 'Marketing', 'age': 27, 'salary': 4800}\n",
      "{'_id': ObjectId('6905fa8f1f84b479983d0683'), 'name': 'Evan', 'department': 'Finance', 'age': 30, 'salary': 4600}\n"
     ]
    }
   ],
   "source": [
    "from pymongo import MongoClient\n",
    "\n",
    "# Koneksi ke MongoDB\n",
    "client = MongoClient('mongodb://localhost:27017/')\n",
    "db = client['company_db']\n",
    "collection = db['employees']\n",
    "\n",
    "# Hapus semua karyawan yang berusia di bawah 25 tahun\n",
    "delete_result = collection.delete_many({'age': {'$lt': 25}})\n",
    "\n",
    "# Tampilkan hasil penghapusan\n",
    "print(f\"{delete_result.deleted_count} karyawan di bawah usia 25 tahun telah dihapus.\")\n",
    "\n",
    "# Verifikasi hasil dengan menampilkan sisa data\n",
    "print(\"\\nData karyawan yang tersisa:\")\n",
    "for employee in collection.find():\n",
    "    print(employee)\n"
   ]
  },
  {
   "cell_type": "code",
   "execution_count": 11,
   "id": "83ab7593-2e48-4c05-818d-b52a794b79a4",
   "metadata": {},
   "outputs": [
    {
     "name": "stdout",
     "output_type": "stream",
     "text": [
      "Laporan ringkas total gaji dan rata-rata umur per departemen:\n",
      "{'_id': 'IT', 'total_salary': 10500, 'average_age': 25.0}\n",
      "{'_id': 'Finance', 'total_salary': 18200, 'average_age': 29.5}\n",
      "{'_id': 'Marketing', 'total_salary': 9600, 'average_age': 27.0}\n"
     ]
    }
   ],
   "source": [
    "from pymongo import MongoClient\n",
    "\n",
    "# Koneksi ke MongoDB\n",
    "client = MongoClient('mongodb://localhost:27017/')\n",
    "db = client['company_db']\n",
    "collection = db['employees']\n",
    "\n",
    "# Aggregation pipeline untuk laporan ringkas\n",
    "pipeline = [\n",
    "    {\n",
    "        '$group': {\n",
    "            '_id': '$department',                # Kelompokkan berdasarkan departemen\n",
    "            'total_salary': {'$sum': '$salary'}, # Hitung total gaji per departemen\n",
    "            'average_age': {'$avg': '$age'}      # Hitung rata-rata umur karyawan\n",
    "        }\n",
    "    }\n",
    "]\n",
    "\n",
    "# Jalankan pipeline dan tampilkan hasil\n",
    "print(\"Laporan ringkas total gaji dan rata-rata umur per departemen:\")\n",
    "for result in collection.aggregate(pipeline):\n",
    "    print(result)\n"
   ]
  },
  {
   "cell_type": "code",
   "execution_count": null,
   "id": "573483c9-9a4f-4d12-8f69-2ba2c5734324",
   "metadata": {},
   "outputs": [],
   "source": []
  }
 ],
 "metadata": {
  "kernelspec": {
   "display_name": "Python 3 (ipykernel)",
   "language": "python",
   "name": "python3"
  },
  "language_info": {
   "codemirror_mode": {
    "name": "ipython",
    "version": 3
   },
   "file_extension": ".py",
   "mimetype": "text/x-python",
   "name": "python",
   "nbconvert_exporter": "python",
   "pygments_lexer": "ipython3",
   "version": "3.10.12"
  }
 },
 "nbformat": 4,
 "nbformat_minor": 5
}
